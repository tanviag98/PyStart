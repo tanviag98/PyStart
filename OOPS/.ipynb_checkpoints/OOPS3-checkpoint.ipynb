{
 "cells": [
  {
   "cell_type": "code",
   "execution_count": 5,
   "id": "5a319c9f",
   "metadata": {},
   "outputs": [],
   "source": [
    "#Python doesnot have it's own method to implement abstact classes\n",
    "from abc import ABC, abstractmethod\n"
   ]
  },
  {
   "cell_type": "code",
   "execution_count": 18,
   "id": "0197a269",
   "metadata": {},
   "outputs": [],
   "source": [
    "class Vehicle(ABC):\n",
    "    \n",
    "    @abstractmethod\n",
    "    def get_value(self):\n",
    "        pass\n",
    "    \n",
    "class Car(Vehicle):\n",
    "    def __init__(self, make, model, fuel):\n",
    "        self.make=make\n",
    "        self.model=model\n",
    "        self.fuel=fuel\n",
    "        \n",
    "        \n",
    "    def get_value(self):\n",
    "        return 1000*self.fuel\n",
    "\n",
    "\n",
    "    "
   ]
  },
  {
   "cell_type": "code",
   "execution_count": 19,
   "id": "1875778d",
   "metadata": {},
   "outputs": [],
   "source": [
    "myobj= Car(\"swift\",\"10Z\",100)"
   ]
  },
  {
   "cell_type": "code",
   "execution_count": 20,
   "id": "1a7d9574",
   "metadata": {},
   "outputs": [
    {
     "data": {
      "text/plain": [
       "100000"
      ]
     },
     "execution_count": 20,
     "metadata": {},
     "output_type": "execute_result"
    }
   ],
   "source": [
    "myobj.get_value()"
   ]
  },
  {
   "cell_type": "code",
   "execution_count": 21,
   "id": "67c4e3aa",
   "metadata": {},
   "outputs": [],
   "source": [
    "class TextReaderAbstract(ABC):\n",
    "    \n",
    "    def __init__(self, path, filename):\n",
    "        self.path=path\n",
    "        self.filename=filename\n",
    "        \n",
    "    @abstractmethod\n",
    "    def get_path(self):\n",
    "        pass\n",
    "    \n",
    "    @abstractmethod    \n",
    "    def get_filename(self):\n",
    "        pass\n",
    "\n",
    "    \n",
    "    \n",
    "class TextReader(TextReaderAbstract):\n",
    "    \n",
    "    def get_path(self):\n",
    "        return self.path\n",
    "    \n",
    "    def get_filename(self):\n",
    "        return self.file_name   \n",
    "    "
   ]
  },
  {
   "cell_type": "code",
   "execution_count": 22,
   "id": "d301c64a",
   "metadata": {},
   "outputs": [],
   "source": [
    "obj= TextReader('/axp/', 'tanvi.txt')"
   ]
  },
  {
   "cell_type": "code",
   "execution_count": 23,
   "id": "7d9bc286",
   "metadata": {},
   "outputs": [
    {
     "data": {
      "text/plain": [
       "{'path': '/axp/', 'filename': 'tanvi.txt'}"
      ]
     },
     "execution_count": 23,
     "metadata": {},
     "output_type": "execute_result"
    }
   ],
   "source": [
    "obj.__dict__"
   ]
  },
  {
   "cell_type": "code",
   "execution_count": 24,
   "id": "d23f3f92",
   "metadata": {},
   "outputs": [],
   "source": [
    "#another example of abstact classes\n",
    "\n",
    "class Bank(ABC):\n",
    "    \n",
    "    @abstractmethod\n",
    "    def get_interest(self):\n",
    "        pass\n",
    "    \n",
    "class HDFC(Bank):\n",
    "    \n",
    "    def get_interest(self):\n",
    "        return 8\n",
    "    \n",
    "objbank=HDFC()"
   ]
  },
  {
   "cell_type": "code",
   "execution_count": 25,
   "id": "02cf1646",
   "metadata": {},
   "outputs": [
    {
     "data": {
      "text/plain": [
       "8"
      ]
     },
     "execution_count": 25,
     "metadata": {},
     "output_type": "execute_result"
    }
   ],
   "source": [
    "objbank.get_interest()"
   ]
  },
  {
   "cell_type": "markdown",
   "id": "f8187f77",
   "metadata": {},
   "source": [
    "# Errors &  Exceptions\n"
   ]
  },
  {
   "cell_type": "code",
   "execution_count": 30,
   "id": "73aa7c1b",
   "metadata": {},
   "outputs": [
    {
     "data": {
      "text/plain": [
       "1000"
      ]
     },
     "execution_count": 30,
     "metadata": {},
     "output_type": "execute_result"
    }
   ],
   "source": [
    "class Vehicle():\n",
    "    \n",
    "    def __init__(self, model, mode, fuel):\n",
    "        self.model=model\n",
    "        self.mode=mode\n",
    "        self.fuel=fuel\n",
    "        \n",
    "    def get_year(self):\n",
    "        try:\n",
    "            age=2020- self.model\n",
    "            return (2020/age)*1000\n",
    "        except ZeroDivisionError:\n",
    "            return 1*1000\n",
    "        \n",
    "        except TypeError:\n",
    "            age=2020- int(self.model)\n",
    "            return (2020/age)*1000\n",
    "            \n",
    "            \n",
    "            \n",
    "\n",
    "    \n",
    "obj=Vehicle(2020, \"A\", 299)\n",
    "obj.get_year()\n",
    "\n",
    "        "
   ]
  },
  {
   "cell_type": "code",
   "execution_count": 32,
   "id": "9c474b9d",
   "metadata": {},
   "outputs": [
    {
     "data": {
      "text/plain": [
       "'You have entered Model Year in incorrect format'"
      ]
     },
     "execution_count": 32,
     "metadata": {},
     "output_type": "execute_result"
    }
   ],
   "source": [
    "#Nested Exceptions\n",
    "\n",
    "class Vehicle():\n",
    "    def __init__(self,make,model,fuel):\n",
    "        self.make=make\n",
    "        self.model=model\n",
    "        self.fuel=fuel\n",
    "    def get_value(self):\n",
    "        try:\n",
    "            age=2021-self.model\n",
    "            return 1000+(1/age)\n",
    "        except TypeError:\n",
    "            try:\n",
    "                age=2021-int(self.model)\n",
    "                return 1000+(1/age)\n",
    "            except ZeroDivisionError:\n",
    "                age=2021-int(self.model)\n",
    "                return 1000*(1)\n",
    "            except:\n",
    "                return \"You have entered Model Year in incorrect format\"\n",
    "            \n",
    "myobj=Vehicle(\"Tesla\",\"new\",\"Electric\")\n",
    "\n",
    "myobj.get_value()"
   ]
  },
  {
   "cell_type": "code",
   "execution_count": 56,
   "id": "1b7fd61c",
   "metadata": {},
   "outputs": [
    {
     "ename": "NegativeCarValue",
     "evalue": "Car value cannot be negative",
     "output_type": "error",
     "traceback": [
      "\u001b[0;31m---------------------------------------------------------------------------\u001b[0m",
      "\u001b[0;31mNegativeCarValue\u001b[0m                          Traceback (most recent call last)",
      "Input \u001b[0;32mIn [56]\u001b[0m, in \u001b[0;36m<cell line: 16>\u001b[0;34m()\u001b[0m\n\u001b[1;32m     15\u001b[0m a\u001b[38;5;241m=\u001b[39m\u001b[38;5;241m-\u001b[39m\u001b[38;5;241m1\u001b[39m\n\u001b[1;32m     16\u001b[0m \u001b[38;5;28;01mif\u001b[39;00m(a\u001b[38;5;241m<\u001b[39m\u001b[38;5;241m0\u001b[39m):\n\u001b[0;32m---> 17\u001b[0m     \u001b[38;5;28;01mraise\u001b[39;00m NegativeCarValue(a)\n",
      "\u001b[0;31mNegativeCarValue\u001b[0m: Car value cannot be negative"
     ]
    }
   ],
   "source": [
    "##Raise keyword\n",
    "\n",
    "class NegativeCarValue(Exception):\n",
    "    def __init__(self, value, message=\"Car value cannot be negative\"):\n",
    "        self.value=value\n",
    "        self.message=message\n",
    "        \n",
    "        \n",
    "        super().__init__(self.message)\n",
    "        def __str__(self):\n",
    "            return f'{self.message} --> {self.value}'\n",
    "    \n",
    "        \n",
    "        \n",
    "a=-1\n",
    "if(a<0):\n",
    "    raise NegativeCarValue(a)"
   ]
  },
  {
   "cell_type": "code",
   "execution_count": 57,
   "id": "36778656",
   "metadata": {},
   "outputs": [],
   "source": [
    "class Vehicle():\n",
    "    def __init__(self, make,model, fuel):\n",
    "        self.make=make\n",
    "        self.model=model\n",
    "        self.fuel=fuel\n",
    "        \n",
    "        self.current_year=2021\n",
    "    \n",
    "    def get_value(self):\n",
    "        age=self.current_year - self.model\n",
    "        try:\n",
    "            if age<0:\n",
    "                raise NegativeCarValue(age)\n",
    "\n",
    "            else:\n",
    "                return 1000*(1/age)\n",
    "        except NegativeCarValue as e:\n",
    "            \n",
    "            ##This except block will only be called if there is NegativeCarValue class call\n",
    "            \n",
    "            print(\"Error ****\",e)\n",
    "\n",
    "            \n",
    "    "
   ]
  },
  {
   "cell_type": "code",
   "execution_count": 58,
   "id": "e7932a76",
   "metadata": {},
   "outputs": [],
   "source": [
    "objVeh= Vehicle(\"A\", 2023, 1000)"
   ]
  },
  {
   "cell_type": "code",
   "execution_count": 59,
   "id": "487b72c0",
   "metadata": {},
   "outputs": [
    {
     "name": "stdout",
     "output_type": "stream",
     "text": [
      "Error **** Car value cannot be negative\n"
     ]
    }
   ],
   "source": [
    "objVeh.get_value()"
   ]
  },
  {
   "cell_type": "code",
   "execution_count": 1,
   "id": "ce9b4c5a",
   "metadata": {},
   "outputs": [],
   "source": [
    "##Else and Finally\n"
   ]
  },
  {
   "cell_type": "code",
   "execution_count": null,
   "id": "2f0a24b0",
   "metadata": {},
   "outputs": [],
   "source": []
  }
 ],
 "metadata": {
  "kernelspec": {
   "display_name": "Python 3 (ipykernel)",
   "language": "python",
   "name": "python3"
  },
  "language_info": {
   "codemirror_mode": {
    "name": "ipython",
    "version": 3
   },
   "file_extension": ".py",
   "mimetype": "text/x-python",
   "name": "python",
   "nbconvert_exporter": "python",
   "pygments_lexer": "ipython3",
   "version": "3.9.12"
  }
 },
 "nbformat": 4,
 "nbformat_minor": 5
}
