{
 "cells": [
  {
   "cell_type": "code",
   "execution_count": 41,
   "id": "44226adc",
   "metadata": {},
   "outputs": [],
   "source": [
    "class Expense_Tracker:\n",
    "    #class attribute don't change across \n",
    "    expense_version_tracker=0.1\n",
    "    \n",
    "    \"\"\"this is expense tracker class\"\"\"\n",
    "    def __init__(self,tracker_category,opening_balance,budget):\n",
    "        \n",
    "        #public attribute\n",
    "        self.tracker_category=tracker_category\n",
    "        \n",
    "        \n",
    "        #private attribute\n",
    "        self.__opening_balance=opening_balance\n",
    "        self.__tracker_budget=budget\n",
    "        \n",
    "    #instance method\n",
    "\n",
    "    def get_original_balance(self):\n",
    "        return self.opening_balance\n",
    "    \n",
    "    \n",
    "    #instance method have access to instance attribute \n",
    "    \n",
    "    def check_balance(self, limit=1000):\n",
    "        if(self.tracker_budget>=limit):\n",
    "            return True\n",
    "        else:\n",
    "            return \"your opening balance is less than limit\"\n",
    "    \n",
    "    \n",
    "    # static method does not inherit any instance attribute or method.\n",
    "    @staticmethod\n",
    "    def convert_amount(amount):\n",
    "        return float(amount)\n",
    "    \n",
    "    @classmethod\n",
    "    \n",
    "    def get_attribute_fromString(cls, diary_entry:str):\n",
    "        tracker_category,opening_balance,tracker_budget= diary_entry.split(\" \")\n",
    "        \n",
    "        return Expense_Tracker(tracker_category.capitalize(),\n",
    "                               cls.convert_amount(opening_balance),\n",
    "                               cls.convert_amount(tracker_budget))\n",
    "    \n",
    "        "
   ]
  },
  {
   "cell_type": "markdown",
   "id": "ff2c5eee",
   "metadata": {},
   "source": [
    "# Type of attributes\n",
    "\n",
    "1. class attribute (same for all the objects)\n",
    "2. Instance attribute (object specific)\n",
    "\n",
    "# Type of method\n",
    "1. class method     (cls as argument)(uses decorator as @classmethod)\n",
    "2. Instance method  (self as argument)\n",
    "3. Static method    (uses decorator as @staticmethod)\n"
   ]
  },
  {
   "cell_type": "code",
   "execution_count": 28,
   "id": "f554fe83",
   "metadata": {},
   "outputs": [
    {
     "data": {
      "text/plain": [
       "'home'"
      ]
     },
     "execution_count": 28,
     "metadata": {},
     "output_type": "execute_result"
    }
   ],
   "source": [
    "home_tracker= Expense_Tracker(\"home\",0,10000)\n",
    "shoping_tracker= Expense_Tracker(\"shoping\",0,20000)\n",
    "home_tracker.tracker_category"
   ]
  },
  {
   "cell_type": "code",
   "execution_count": 29,
   "id": "3205b846",
   "metadata": {},
   "outputs": [
    {
     "data": {
      "text/plain": [
       "'home'"
      ]
     },
     "execution_count": 29,
     "metadata": {},
     "output_type": "execute_result"
    }
   ],
   "source": [
    "getattr(home_tracker,\"tracker_category\")"
   ]
  },
  {
   "cell_type": "code",
   "execution_count": 30,
   "id": "47e105ef",
   "metadata": {},
   "outputs": [
    {
     "data": {
      "text/plain": [
       "{'tracker_category': 'home', 'opening_balance': 0, 'tracker_budget': 10000}"
      ]
     },
     "execution_count": 30,
     "metadata": {},
     "output_type": "execute_result"
    }
   ],
   "source": [
    "home_tracker.__dict__"
   ]
  },
  {
   "cell_type": "code",
   "execution_count": 31,
   "id": "321f53f8",
   "metadata": {},
   "outputs": [
    {
     "data": {
      "text/plain": [
       "'your opening balance is less than limit'"
      ]
     },
     "execution_count": 31,
     "metadata": {},
     "output_type": "execute_result"
    }
   ],
   "source": [
    "home_tracker.check_balance(500000)"
   ]
  },
  {
   "cell_type": "code",
   "execution_count": 32,
   "id": "3911d8b7",
   "metadata": {},
   "outputs": [
    {
     "data": {
      "text/plain": [
       "1000.0"
      ]
     },
     "execution_count": 32,
     "metadata": {},
     "output_type": "execute_result"
    }
   ],
   "source": [
    "home_tracker.convert_amount(1000)"
   ]
  },
  {
   "cell_type": "code",
   "execution_count": 39,
   "id": "736e7f98",
   "metadata": {},
   "outputs": [],
   "source": [
    "classObj= Expense_Tracker.get_attribute_fromString(\"shopping 100 5000\")"
   ]
  },
  {
   "cell_type": "code",
   "execution_count": 40,
   "id": "198ee371",
   "metadata": {},
   "outputs": [
    {
     "data": {
      "text/plain": [
       "{'tracker_category': 'Shopping',\n",
       " 'opening_balance': 100.0,\n",
       " 'tracker_budget': 5000.0}"
      ]
     },
     "execution_count": 40,
     "metadata": {},
     "output_type": "execute_result"
    }
   ],
   "source": [
    "classObj.__dict__\n"
   ]
  },
  {
   "cell_type": "code",
   "execution_count": 45,
   "id": "c204f2d9",
   "metadata": {},
   "outputs": [],
   "source": [
    "home=Expense_Tracker(\"home\", 1, 300)\n"
   ]
  },
  {
   "cell_type": "code",
   "execution_count": 47,
   "id": "c402c046",
   "metadata": {},
   "outputs": [
    {
     "data": {
      "text/plain": [
       "'home'"
      ]
     },
     "execution_count": 47,
     "metadata": {},
     "output_type": "execute_result"
    }
   ],
   "source": [
    "home.tracker_category"
   ]
  },
  {
   "cell_type": "code",
   "execution_count": 51,
   "id": "257f57e9",
   "metadata": {},
   "outputs": [
    {
     "data": {
      "text/plain": [
       "300"
      ]
     },
     "execution_count": 51,
     "metadata": {},
     "output_type": "execute_result"
    }
   ],
   "source": [
    "#this is psudo way of doing this (even though it's private we are able to access it)\n",
    "home._Expense_Tracker__tracker_budget"
   ]
  },
  {
   "cell_type": "code",
   "execution_count": 52,
   "id": "6a592382",
   "metadata": {},
   "outputs": [
    {
     "data": {
      "text/plain": [
       "{'tracker_category': 'home',\n",
       " '_Expense_Tracker__opening_balance': 1,\n",
       " '_Expense_Tracker__tracker_budget': 300}"
      ]
     },
     "execution_count": 52,
     "metadata": {},
     "output_type": "execute_result"
    }
   ],
   "source": [
    "home.__dict__"
   ]
  },
  {
   "cell_type": "code",
   "execution_count": 4,
   "id": "aff781b5",
   "metadata": {},
   "outputs": [],
   "source": [
    "class Vehicle():\n",
    "    def __init__(self,make, model, fuel):\n",
    "        self.make=make\n",
    "        #private\n",
    "        self.__model=model\n",
    "        self.__fuel=fuel\n",
    "        \n",
    "        def __private_method_parent():\n",
    "            print(\"This is private method called of parent\")\n",
    "        \n",
    "        \n",
    "        "
   ]
  },
  {
   "cell_type": "code",
   "execution_count": 9,
   "id": "9c6c8721",
   "metadata": {},
   "outputs": [],
   "source": [
    "class Car(Vehicle):\n",
    "    def __init__(self,make, model, fuel, air_conditioning, sunroof):\n",
    "#         vehicle.make=make\n",
    "#         vehicle.__model=model\n",
    "#         vehicle.__fuel=fuel\n",
    "\n",
    "        super(Car, self).__init__(make, model, fuel)\n",
    "\n",
    "\n",
    "\n",
    "        self.air_confitioning=air_conditioning\n",
    "        self.sunroof=sunroof\n",
    "    \n",
    "    \n",
    "    def show_parent_attribute(self):\n",
    "        print(vehicle.make +\" \" + vehicle.__model+ \" \" + vehicle.__fuel)\n",
    "        \n",
    "    def show_privatemethod_ofparent(self):\n",
    "        self._vehicle__private_method_parent()\n",
    "        "
   ]
  },
  {
   "cell_type": "code",
   "execution_count": 10,
   "id": "79646837",
   "metadata": {},
   "outputs": [],
   "source": [
    "#object\n",
    "\n",
    "myObj=Car(\"tesla\",2019,\"Electric\",True,True)"
   ]
  },
  {
   "cell_type": "code",
   "execution_count": 13,
   "id": "6a432d1f",
   "metadata": {},
   "outputs": [
    {
     "data": {
      "text/plain": [
       "{'make': 'tesla',\n",
       " '_Vehicle__model': 2019,\n",
       " '_Vehicle__fuel': 'Electric',\n",
       " 'air_confitioning': True,\n",
       " 'sunroof': True}"
      ]
     },
     "execution_count": 13,
     "metadata": {},
     "output_type": "execute_result"
    }
   ],
   "source": [
    "\n",
    "\n",
    "myObj.__dict__"
   ]
  },
  {
   "cell_type": "code",
   "execution_count": 14,
   "id": "ff5418a6",
   "metadata": {},
   "outputs": [
    {
     "name": "stdout",
     "output_type": "stream",
     "text": [
      "This is a Circle class which takes radius as an argument.\n"
     ]
    }
   ],
   "source": [
    "class Circle(object):\n",
    "\n",
    "\tdef __init__(self,radius):\n",
    "\t\tself.__radius = radius\n",
    "\n",
    "\tdef __str__(self):\n",
    "\t\treturn \"This is a Circle class which takes radius as an argument.\"\n",
    "\n",
    "c = Circle(3)\n",
    "print(c)"
   ]
  },
  {
   "cell_type": "code",
   "execution_count": 15,
   "id": "88d6e37f",
   "metadata": {},
   "outputs": [
    {
     "name": "stdout",
     "output_type": "stream",
     "text": [
      "This is child override method\n"
     ]
    },
    {
     "data": {
      "text/plain": [
       "2500.0"
      ]
     },
     "execution_count": 15,
     "metadata": {},
     "output_type": "execute_result"
    }
   ],
   "source": [
    "# Parent Class\n",
    "class Vehicle():\n",
    "    current_year=2021\n",
    "    base_price=1000\n",
    "    \n",
    "    def __init__(self,make,model,fuel):\n",
    "        self.make=make\n",
    "        #Protected Attributes\n",
    "        self._model=model\n",
    "        self._fuel=fuel\n",
    "    \n",
    "    def _get_value(self):\n",
    "        age=Vehicle.current_year-self.model\n",
    "        print(\"This is default method of parent\")\n",
    "        return Vehicle.base_price*(1/age)\n",
    "\n",
    "# Child Class\n",
    "class Car(Vehicle):\n",
    "    def __init__(self,make,model,fuel,air_conditioning,sunroof):\n",
    "        super(Car,self).__init__(make,model,fuel)\n",
    "        #protected\n",
    "        self._air_conditioning=air_conditioning\n",
    "        self._sunroof=sunroof\n",
    "    #Overriding Method --> replaces the parent default method\n",
    "    #Protected Method\n",
    "    def _get_value(self):\n",
    "        Vehicle.base_price=5000\n",
    "        age=Vehicle.current_year-self._model\n",
    "        print(\"This is child override method\")\n",
    "        return Vehicle.base_price*(1/age)\n",
    "\n",
    "myObj=Car(\"Tesla\",2019,\"Electric\",True,True)\n",
    "\n",
    "myObj._air_conditioning\n",
    "\n",
    "myObj._sunroof\n",
    "\n",
    "myObj._get_value()"
   ]
  },
  {
   "cell_type": "code",
   "execution_count": 16,
   "id": "999338c0",
   "metadata": {},
   "outputs": [
    {
     "name": "stdout",
     "output_type": "stream",
     "text": [
      "The make of the model is Tesla and the model is of 2019 with a fare of 40\n"
     ]
    },
    {
     "data": {
      "text/plain": [
       "120"
      ]
     },
     "execution_count": 16,
     "metadata": {},
     "output_type": "execute_result"
    }
   ],
   "source": [
    "class Vehicle:\n",
    "    def __init__(self,make,model,fare):\n",
    "        self.make=make\n",
    "        self.model=model\n",
    "        self.fare=fare\n",
    "    def __str__(self):\n",
    "        return \"The make of the model is {} and the model is of {} with a fare of {}\".format(self.make,self.model,self.fare)\n",
    "    def __add__(self,other):\n",
    "        return self.fare+other.fare\n",
    "myob1=Vehicle(\"Tesla\",2019,40)\n",
    "myob2=Vehicle(\"ford\",2018,80)\n",
    "print(myob1)\n",
    "myob1+myob2"
   ]
  },
  {
   "cell_type": "code",
   "execution_count": null,
   "id": "d04d5a33",
   "metadata": {},
   "outputs": [],
   "source": []
  }
 ],
 "metadata": {
  "kernelspec": {
   "display_name": "Python 3 (ipykernel)",
   "language": "python",
   "name": "python3"
  },
  "language_info": {
   "codemirror_mode": {
    "name": "ipython",
    "version": 3
   },
   "file_extension": ".py",
   "mimetype": "text/x-python",
   "name": "python",
   "nbconvert_exporter": "python",
   "pygments_lexer": "ipython3",
   "version": "3.9.12"
  }
 },
 "nbformat": 4,
 "nbformat_minor": 5
}
