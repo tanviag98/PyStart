{
 "cells": [
  {
   "cell_type": "code",
   "execution_count": 5,
   "id": "8ff7453b",
   "metadata": {},
   "outputs": [
    {
     "name": "stdout",
     "output_type": "stream",
     "text": [
      "4\n",
      "1 2 3 4\n",
      "10\n"
     ]
    }
   ],
   "source": [
    "#sum of elements in list\n",
    "\n",
    "n=int(input())\n",
    "li=[int(x) for x in input().split()]\n",
    "sum=0\n",
    "for ele in li:\n",
    "    sum=sum+ele\n",
    "\n",
    "print(sum)"
   ]
  },
  {
   "cell_type": "code",
   "execution_count": 10,
   "id": "416c63fa",
   "metadata": {
    "scrolled": true
   },
   "outputs": [
    {
     "name": "stdout",
     "output_type": "stream",
     "text": [
      "2\n",
      "4\n",
      "1 6 4 5\n",
      "-1\n"
     ]
    }
   ],
   "source": [
    "#Linear search\n",
    "\n",
    "key=int(input())\n",
    "flag=True\n",
    "n= int(input())\n",
    "li=[int(x) for x in input().split()]\n",
    "for i in range(len(li)):\n",
    "    if li[i]==key:\n",
    "        print(i)\n",
    "        flag=False\n",
    "        break\n",
    "        \n",
    "if flag is True:\n",
    "    print(-1)\n"
   ]
  },
  {
   "cell_type": "code",
   "execution_count": 22,
   "id": "78634fbf",
   "metadata": {},
   "outputs": [
    {
     "name": "stdout",
     "output_type": "stream",
     "text": [
      "-1\n"
     ]
    }
   ],
   "source": [
    "#Binary Search\n",
    "\n",
    "def binarySearch(li,key):\n",
    "    n=len(li)\n",
    "    lower=0\n",
    "    upper=n-1\n",
    "    middle=(lower+upper)//2\n",
    "    while (lower<=upper):\n",
    "        if(li[middle]==key):\n",
    "            print(\"middle match\")\n",
    "            return middle\n",
    "        elif (li[middle]>key):\n",
    "            upper=middle-1\n",
    "            middle=(lower+upper)//2\n",
    "        else:\n",
    "            lower=middle+1\n",
    "            middle=(lower+upper)//2\n",
    "    return -1\n",
    "\n",
    "\n",
    "li=[1,3,4,5,8,9]\n",
    "key=10\n",
    "index=binarySearch(li,key)\n",
    "print(index)"
   ]
  },
  {
   "cell_type": "code",
   "execution_count": 20,
   "id": "0e460acc",
   "metadata": {},
   "outputs": [
    {
     "name": "stdout",
     "output_type": "stream",
     "text": [
      "[1, 2, 4, 5, 6, 7, 9, 24]\n"
     ]
    }
   ],
   "source": [
    "#selection sort\n",
    "\n",
    "def selectionSort(li):\n",
    "    for i in range(len(li)-1):\n",
    "        min=li[i]\n",
    "        index=i\n",
    "        for j in range(i+1,len(li)):\n",
    "            if(min>li[j]):\n",
    "                min=li[j]\n",
    "                index=j\n",
    "        li[i],li[index]=li[index],li[i]\n",
    "            \n",
    "        \n",
    "li=[2,9,5,1,6,7,4,24]\n",
    "selectionSort(li)\n",
    "print(li)\n"
   ]
  },
  {
   "cell_type": "code",
   "execution_count": 24,
   "id": "90ac4f46",
   "metadata": {},
   "outputs": [
    {
     "name": "stdout",
     "output_type": "stream",
     "text": [
      "[1, 2, 4, 5, 6, 7, 9, 24]\n"
     ]
    }
   ],
   "source": [
    "#Bubble sort\n",
    "\n",
    "def bubbleSort(li):\n",
    "    for i in range(len(li)-1):\n",
    "        for j in range(len(li)-i):\n",
    "            if(li[j]>li[j+1]):\n",
    "                li[j],li[j+1]=li[j+1],li[j]\n",
    "                \n",
    "li=[2,9,5,1,6,7,4,24]\n",
    "selectionSort(li)\n",
    "print(li)\n"
   ]
  },
  {
   "cell_type": "code",
   "execution_count": 25,
   "id": "3c697688",
   "metadata": {},
   "outputs": [
    {
     "name": "stdout",
     "output_type": "stream",
     "text": [
      "[1, 2, 4, 5, 6, 7, 9, 24]\n"
     ]
    }
   ],
   "source": [
    "#Insertion Sort\n",
    "\n",
    "def insertionSort(li):\n",
    "    \n",
    "    for i in range(1,len(li)):\n",
    "        temp=li[i]\n",
    "        j=i-1\n",
    "        while(j>=0 and arr[j] > temp):\n",
    "            arr[j+1]=arr[j]\n",
    "            j=j-1\n",
    "        arr[j+1]=temp\n",
    "\n",
    "li=[2,9,5,1,6,7,4,24]\n",
    "selectionSort(li)\n",
    "print(li)\n"
   ]
  },
  {
   "cell_type": "code",
   "execution_count": 30,
   "id": "975c78c0",
   "metadata": {},
   "outputs": [
    {
     "name": "stdout",
     "output_type": "stream",
     "text": [
      "[2, 7, 6, 4, 2, 0, 0, 0]\n"
     ]
    }
   ],
   "source": [
    "#Push zeros to end\n",
    "li=[2,0,0,7,0,6,4,2]\n",
    "\n",
    "k=0\n",
    "i=0\n",
    "while(i<len(li)):\n",
    "    if(li[i]==0):\n",
    "        i=i+1\n",
    "        \n",
    "    else:\n",
    "        li[k],li[i]=li[i],li[k]\n",
    "        k=k+1\n",
    "        i=i+1\n",
    "        \n",
    "print(li)"
   ]
  },
  {
   "cell_type": "code",
   "execution_count": 46,
   "id": "23ba2013",
   "metadata": {},
   "outputs": [
    {
     "name": "stdout",
     "output_type": "stream",
     "text": [
      "tanvi\n",
      "this is \n",
      "multiline string\n",
      "t\n",
      "a3\n",
      "a3a3a3\n",
      "9\n",
      "yes it's there\n",
      "yes it's not there \n"
     ]
    }
   ],
   "source": [
    "#String\n",
    "s=\"tanvi\"\n",
    "s_multiline='''this is \n",
    "multiline string'''\n",
    "print(s)\n",
    "print(s_multiline)\n",
    "s_multiline\n",
    "print(s[0])\n",
    "\n",
    "#converting int to string\n",
    "a=\"a\"+str(3)\n",
    "print(a)\n",
    "a=a*3\n",
    "print(a)\n",
    "#converting string to int\n",
    "b= 5 + int('4')\n",
    "print(b)\n",
    "\n",
    "\n",
    "#in and notin operation on string\n",
    "string=\"tanvi\"\n",
    "if \"anv\" in string:\n",
    "    print(\"yes it's there\")\n",
    "    \n",
    "if \"anvx\" not in string:\n",
    "    print(\"yes it's not there \")\n",
    "    \n",
    "#character ASCII value\n",
    "#A= 65\n",
    "#a=97\n",
    "\n"
   ]
  },
  {
   "cell_type": "code",
   "execution_count": null,
   "id": "04b7183d",
   "metadata": {},
   "outputs": [],
   "source": [
    "#String Palindrome\n",
    "\n",
    "def isPalindrome(string) :\n",
    "\t# Your code goes here\n",
    "    mid=len(string)//2\n",
    "    \n",
    "    for i in range(mid):\n",
    "        if(string[i]!= string[len(string)-i-1]):\n",
    "            \n",
    "            return False\n",
    "        \n",
    "    return True\n",
    "        \t"
   ]
  },
  {
   "cell_type": "code",
   "execution_count": 55,
   "id": "c8488356",
   "metadata": {},
   "outputs": [
    {
     "name": "stdout",
     "output_type": "stream",
     "text": [
      "['my', 'name', 'is', 'tanvi']\n",
      "my name is anvi\n",
      "6\n",
      "my name is anvi\n",
      "MY NAME IS ANVI\n",
      "True\n"
     ]
    }
   ],
   "source": [
    "#Operations on String\n",
    "\n",
    "str=\"my name is tanvi\"\n",
    "li=str.split()\n",
    "print(li)\n",
    "#by default split is on space \n",
    "str=str.replace('tanvi','anvi')\n",
    "print(str)\n",
    "st=\"using the find function \"\n",
    "index=st.find(\"the\",0,10)\n",
    "print(index)\n",
    "str=str.lower()\n",
    "print(str)\n",
    "str=str.upper()\n",
    "print(str)\n",
    "\n",
    "x=str.startswith(\"MY\")\n",
    "print(x)\n"
   ]
  },
  {
   "cell_type": "code",
   "execution_count": 56,
   "id": "7fb0dd4d",
   "metadata": {},
   "outputs": [
    {
     "name": "stdout",
     "output_type": "stream",
     "text": [
      "{1: 'tanvi', 2: 'tan', 3: 'agarwal', 4: 8}\n"
     ]
    }
   ],
   "source": [
    "#Dictionary\n",
    "d={1:\"tanvi\",2:\"tan\",3:\"agarwal\",4:8}\n",
    "print(d)"
   ]
  },
  {
   "cell_type": "code",
   "execution_count": 58,
   "id": "345207fc",
   "metadata": {},
   "outputs": [
    {
     "name": "stdout",
     "output_type": "stream",
     "text": [
      "1\n",
      "2\n",
      "3\n",
      "4\n",
      "tanvi\n",
      "tan\n",
      "agarwal\n",
      "8\n"
     ]
    }
   ],
   "source": [
    "for i in d:\n",
    "    print(i)\n",
    "for i in d:\n",
    "    print(d[i])"
   ]
  },
  {
   "cell_type": "code",
   "execution_count": 66,
   "id": "1c01b21a",
   "metadata": {},
   "outputs": [
    {
     "name": "stdout",
     "output_type": "stream",
     "text": [
      "2\n",
      "2\n"
     ]
    }
   ],
   "source": [
    "s=\"this is a string which is having many many columns\"\n",
    "k=2\n",
    "words=s.split()\n",
    "d={}\n",
    "for w in words:\n",
    "    if w in d:\n",
    "        d[w]=d[w]+1\n",
    "    else:\n",
    "        d[w]=1\n",
    "        \n",
    "for i in d:\n",
    "    if(d[i]==k):\n",
    "        print(d[i])\n"
   ]
  },
  {
   "cell_type": "code",
   "execution_count": 79,
   "id": "caeedfc0",
   "metadata": {},
   "outputs": [
    {
     "name": "stdout",
     "output_type": "stream",
     "text": [
      "{'tan', 'temp', 3, 4}\n",
      "{'tan', 'temp', 3, 4, 'tech'}\n",
      "{'tan', 'temp', 3, 4, 'abc', 'tech'}\n",
      "{'tan', 'temp', 3, 'abc', 'tech'}\n"
     ]
    }
   ],
   "source": [
    "#Sets\n",
    "\n",
    "a={'temp',3,4,\"tan\"}\n",
    "print(a)\n",
    "a.add(\"tech\")\n",
    "print(a)\n",
    "b={'abc',4}\n",
    "a.update(b)\n",
    "print(a)\n",
    "a.discard(4)\n",
    "print(a)\n",
    "del a"
   ]
  },
  {
   "cell_type": "code",
   "execution_count": 82,
   "id": "ec5acbfb",
   "metadata": {},
   "outputs": [
    {
     "data": {
      "text/plain": [
       "{1, 2}"
      ]
     },
     "execution_count": 82,
     "metadata": {},
     "output_type": "execute_result"
    }
   ],
   "source": [
    "#Functions in Sets\n",
    "a={1,2,3}\n",
    "b={3,4,5,6}\n",
    "a.intersection(b)\n",
    "a.union(b)\n",
    "a.difference(b)\n"
   ]
  },
  {
   "cell_type": "code",
   "execution_count": 84,
   "id": "d6a71d06",
   "metadata": {},
   "outputs": [
    {
     "name": "stdout",
     "output_type": "stream",
     "text": [
      "{1, 2, 3, 4, 5}\n"
     ]
    }
   ],
   "source": [
    "li=[1,2,3,4,5,5,3,4,5]\n",
    "s=set(li)\n",
    "print(s)\n"
   ]
  },
  {
   "cell_type": "code",
   "execution_count": 85,
   "id": "5051afbf",
   "metadata": {},
   "outputs": [
    {
     "name": "stdout",
     "output_type": "stream",
     "text": [
      "3\n",
      "-3\n",
      "-3\n",
      "1\n",
      "1\n",
      "5\n",
      "5\n"
     ]
    },
    {
     "ename": "KeyboardInterrupt",
     "evalue": "Interrupted by user",
     "output_type": "error",
     "traceback": [
      "\u001b[0;31m---------------------------------------------------------------------------\u001b[0m",
      "\u001b[0;31mKeyboardInterrupt\u001b[0m                         Traceback (most recent call last)",
      "Input \u001b[0;32mIn [85]\u001b[0m, in \u001b[0;36m<cell line: 19>\u001b[0;34m()\u001b[0m\n\u001b[1;32m     18\u001b[0m li\u001b[38;5;241m=\u001b[39m[]\n\u001b[1;32m     19\u001b[0m \u001b[38;5;28;01mwhile\u001b[39;00m(q\u001b[38;5;241m>\u001b[39m\u001b[38;5;241m=\u001b[39m\u001b[38;5;241m0\u001b[39m):\n\u001b[0;32m---> 20\u001b[0m     n\u001b[38;5;241m=\u001b[39m\u001b[38;5;28mint\u001b[39m(\u001b[38;5;28;43minput\u001b[39;49m\u001b[43m(\u001b[49m\u001b[43m)\u001b[49m)\n\u001b[1;32m     21\u001b[0m     li\u001b[38;5;241m.\u001b[39mappend(n)\n\u001b[1;32m     22\u001b[0m     \u001b[38;5;28;01mif\u001b[39;00m(\u001b[38;5;28mlen\u001b[39m(li)\u001b[38;5;241m==\u001b[39m\u001b[38;5;241m1\u001b[39m):\n",
      "File \u001b[0;32m~/opt/anaconda3/lib/python3.9/site-packages/ipykernel/kernelbase.py:1075\u001b[0m, in \u001b[0;36mKernel.raw_input\u001b[0;34m(self, prompt)\u001b[0m\n\u001b[1;32m   1071\u001b[0m \u001b[38;5;28;01mif\u001b[39;00m \u001b[38;5;129;01mnot\u001b[39;00m \u001b[38;5;28mself\u001b[39m\u001b[38;5;241m.\u001b[39m_allow_stdin:\n\u001b[1;32m   1072\u001b[0m     \u001b[38;5;28;01mraise\u001b[39;00m StdinNotImplementedError(\n\u001b[1;32m   1073\u001b[0m         \u001b[38;5;124m\"\u001b[39m\u001b[38;5;124mraw_input was called, but this frontend does not support input requests.\u001b[39m\u001b[38;5;124m\"\u001b[39m\n\u001b[1;32m   1074\u001b[0m     )\n\u001b[0;32m-> 1075\u001b[0m \u001b[38;5;28;01mreturn\u001b[39;00m \u001b[38;5;28;43mself\u001b[39;49m\u001b[38;5;241;43m.\u001b[39;49m\u001b[43m_input_request\u001b[49m\u001b[43m(\u001b[49m\n\u001b[1;32m   1076\u001b[0m \u001b[43m    \u001b[49m\u001b[38;5;28;43mstr\u001b[39;49m\u001b[43m(\u001b[49m\u001b[43mprompt\u001b[49m\u001b[43m)\u001b[49m\u001b[43m,\u001b[49m\n\u001b[1;32m   1077\u001b[0m \u001b[43m    \u001b[49m\u001b[38;5;28;43mself\u001b[39;49m\u001b[38;5;241;43m.\u001b[39;49m\u001b[43m_parent_ident\u001b[49m\u001b[43m[\u001b[49m\u001b[38;5;124;43m\"\u001b[39;49m\u001b[38;5;124;43mshell\u001b[39;49m\u001b[38;5;124;43m\"\u001b[39;49m\u001b[43m]\u001b[49m\u001b[43m,\u001b[49m\n\u001b[1;32m   1078\u001b[0m \u001b[43m    \u001b[49m\u001b[38;5;28;43mself\u001b[39;49m\u001b[38;5;241;43m.\u001b[39;49m\u001b[43mget_parent\u001b[49m\u001b[43m(\u001b[49m\u001b[38;5;124;43m\"\u001b[39;49m\u001b[38;5;124;43mshell\u001b[39;49m\u001b[38;5;124;43m\"\u001b[39;49m\u001b[43m)\u001b[49m\u001b[43m,\u001b[49m\n\u001b[1;32m   1079\u001b[0m \u001b[43m    \u001b[49m\u001b[43mpassword\u001b[49m\u001b[38;5;241;43m=\u001b[39;49m\u001b[38;5;28;43;01mFalse\u001b[39;49;00m\u001b[43m,\u001b[49m\n\u001b[1;32m   1080\u001b[0m \u001b[43m\u001b[49m\u001b[43m)\u001b[49m\n",
      "File \u001b[0;32m~/opt/anaconda3/lib/python3.9/site-packages/ipykernel/kernelbase.py:1120\u001b[0m, in \u001b[0;36mKernel._input_request\u001b[0;34m(self, prompt, ident, parent, password)\u001b[0m\n\u001b[1;32m   1117\u001b[0m             \u001b[38;5;28;01mbreak\u001b[39;00m\n\u001b[1;32m   1118\u001b[0m \u001b[38;5;28;01mexcept\u001b[39;00m \u001b[38;5;167;01mKeyboardInterrupt\u001b[39;00m:\n\u001b[1;32m   1119\u001b[0m     \u001b[38;5;66;03m# re-raise KeyboardInterrupt, to truncate traceback\u001b[39;00m\n\u001b[0;32m-> 1120\u001b[0m     \u001b[38;5;28;01mraise\u001b[39;00m \u001b[38;5;167;01mKeyboardInterrupt\u001b[39;00m(\u001b[38;5;124m\"\u001b[39m\u001b[38;5;124mInterrupted by user\u001b[39m\u001b[38;5;124m\"\u001b[39m) \u001b[38;5;28;01mfrom\u001b[39;00m \u001b[38;5;28mNone\u001b[39m\n\u001b[1;32m   1121\u001b[0m \u001b[38;5;28;01mexcept\u001b[39;00m \u001b[38;5;167;01mException\u001b[39;00m:\n\u001b[1;32m   1122\u001b[0m     \u001b[38;5;28mself\u001b[39m\u001b[38;5;241m.\u001b[39mlog\u001b[38;5;241m.\u001b[39mwarning(\u001b[38;5;124m\"\u001b[39m\u001b[38;5;124mInvalid Message:\u001b[39m\u001b[38;5;124m\"\u001b[39m, exc_info\u001b[38;5;241m=\u001b[39m\u001b[38;5;28;01mTrue\u001b[39;00m)\n",
      "\u001b[0;31mKeyboardInterrupt\u001b[0m: Interrupted by user"
     ]
    }
   ],
   "source": [
    "import sys\n",
    "import os\n",
    "\n",
    "''' Read input from STDIN. Print your output to STDOUT '''\n",
    "# Use input() to read input from STDIN and use print to write your output to STDOUT\n",
    "# Write code here\n",
    "def insertionSort(li):\n",
    "    \n",
    "    for i in range(1,len(li)):\n",
    "        temp=li[i]\n",
    "        j=i-1\n",
    "        while(j>=0 and li[j] > temp):\n",
    "            li[j+1]=li[j]\n",
    "            j=j-1\n",
    "        li[j+1]=temp\n",
    "\n",
    "q=int(input())\n",
    "li=[]\n",
    "while(q>=0):\n",
    "    n=int(input())\n",
    "    li.append(n)\n",
    "    if(len(li)==1):\n",
    "        print(n)\n",
    "    else:\n",
    "        insertionSort(li)\n",
    "        k=0\n",
    "        d={}\n",
    "        sum=0\n",
    "        for i in range(1,len(li)):\n",
    "            for j in range(0,len(li)):\n",
    "                sum=sum+(li[i]-j)\n",
    "            d[li[i]]=sum\n",
    "\n",
    "        print(max(d))\n",
    "\n",
    "    q=q-1\n"
   ]
  },
  {
   "cell_type": "code",
   "execution_count": null,
   "id": "34c7db33",
   "metadata": {},
   "outputs": [],
   "source": [
    "import sys\n",
    "import os\n",
    "\n",
    "''' Read input from STDIN. Print your output to STDOUT '''\n",
    "# Use input() to read input from STDIN and use print to write your output to STDOUT\n",
    "# Write code here\n",
    "def insertionSort(li,si,ei):\n",
    "    \n",
    "    for i in range(1,ei):\n",
    "        temp=li[i]\n",
    "        j=i-1\n",
    "        while(j>=0 and li[j] > temp):\n",
    "            li[j+1]=li[j]\n",
    "            j=j-1\n",
    "        li[j+1]=temp\n",
    "\n",
    "q=int(input())\n",
    "li=[]\n",
    "for i in range(q):\n",
    "    n=int(input())\n",
    "    li.append(n)\n",
    "\n",
    "for i in range(0,len(li)):\n",
    "    if(i==0):\n",
    "        print(li[0])\n",
    "    elif(i==1):\n",
    "        print(min(li))\n",
    "    else:\n",
    "        k=0\n",
    "        sum=0\n",
    "        mid=0\n",
    "        for j in range(0,i):\n",
    "            sorted_li=[]\n",
    "            sorted_li=insertionSort(li,0,i)\n",
    "            mid=(0+i)//2\n",
    "            print(sorted_li(mid))\n"
   ]
  },
  {
   "cell_type": "code",
   "execution_count": 100,
   "id": "036a5abf",
   "metadata": {},
   "outputs": [
    {
     "name": "stdout",
     "output_type": "stream",
     "text": [
      "4\n",
      "-3\n",
      "-3\n",
      "3\n",
      "5\n",
      "-3\n",
      "-3\n",
      "-3\n",
      "3\n"
     ]
    }
   ],
   "source": [
    "import sys\n",
    "import os\n",
    "\n",
    "''' Read input from STDIN. Print your output to STDOUT '''\n",
    "# Use input() to read input from STDIN and use print to write your output to STDOUT\n",
    "# Write code here\n",
    "def insertionSort(li):\n",
    "    \n",
    "    for i in range(1,len(li)):\n",
    "        temp=li[i]\n",
    "        j=i-1\n",
    "        while(j>=0 and li[j] > temp):\n",
    "            li[j+1]=li[j]\n",
    "            j=j-1\n",
    "        li[j+1]=temp\n",
    "\n",
    "q=int(input())\n",
    "li=[]\n",
    "for i in range(q):\n",
    "    n=int(input())\n",
    "    li.append(n)\n",
    "\n",
    "for i in range(0,len(li)):\n",
    "    if(i==0):\n",
    "        print(li[0])\n",
    "    elif (i==1):\n",
    "        print(min(li))\n",
    "    else:\n",
    "        sorted_li=[]\n",
    "        mid=0\n",
    "        for k in range(0,i+1):\n",
    "            sorted_li.append(li[k])\n",
    "        mid=len(sorted_li)//2\n",
    "        print(sorted_li[mid])\n",
    "        "
   ]
  },
  {
   "cell_type": "code",
   "execution_count": 109,
   "id": "35a68960",
   "metadata": {},
   "outputs": [
    {
     "name": "stdout",
     "output_type": "stream",
     "text": [
      "5\n",
      "2\n",
      "3\n",
      "5\n",
      "7\n",
      "8\n",
      "2\n",
      "2\n",
      "[2, 3, 5]\n",
      "3\n",
      "[2, 3, 5, 7]\n",
      "{2: 3, 1: -5}\n",
      "dict_values([3, -5])\n"
     ]
    },
    {
     "ename": "KeyError",
     "evalue": "0",
     "output_type": "error",
     "traceback": [
      "\u001b[0;31m---------------------------------------------------------------------------\u001b[0m",
      "\u001b[0;31mKeyError\u001b[0m                                  Traceback (most recent call last)",
      "Input \u001b[0;32mIn [109]\u001b[0m, in \u001b[0;36m<cell line: 23>\u001b[0;34m()\u001b[0m\n\u001b[1;32m     52\u001b[0m \u001b[38;5;28mprint\u001b[39m(c)\n\u001b[1;32m     53\u001b[0m \u001b[38;5;28;01mfor\u001b[39;00m r \u001b[38;5;129;01min\u001b[39;00m \u001b[38;5;28mrange\u001b[39m(\u001b[38;5;28mlen\u001b[39m(d)):\n\u001b[0;32m---> 54\u001b[0m     \u001b[38;5;28;01mif\u001b[39;00m(\u001b[43md\u001b[49m\u001b[43m[\u001b[49m\u001b[43mr\u001b[49m\u001b[43m]\u001b[49m\u001b[38;5;241m==\u001b[39mmin_c):\n\u001b[1;32m     55\u001b[0m         \u001b[38;5;28mprint\u001b[39m(d[r])\n\u001b[1;32m     56\u001b[0m         \u001b[38;5;28mprint\u001b[39m(r)\n",
      "\u001b[0;31mKeyError\u001b[0m: 0"
     ]
    }
   ],
   "source": [
    "import sys\n",
    "import os\n",
    "\n",
    "''' Read input from STDIN. Print your output to STDOUT '''\n",
    "# Use input() to read input from STDIN and use print to write your output to STDOUT\n",
    "# Write code here\n",
    "def insertionSort(li):\n",
    "    \n",
    "    for i in range(1,len(li)):\n",
    "        temp=li[i]\n",
    "        j=i-1\n",
    "        while(j>=0 and li[j] > temp):\n",
    "            li[j+1]=li[j]\n",
    "            j=j-1\n",
    "        li[j+1]=temp\n",
    "\n",
    "q=int(input())\n",
    "li=[]\n",
    "for i in range(q):\n",
    "    n=int(input())\n",
    "    li.append(n)\n",
    "\n",
    "for i in range(0,len(li)):\n",
    "    if(i==0):\n",
    "        print(li[0])\n",
    "    elif (i==1):\n",
    "        print(min(li))\n",
    "    else:\n",
    "        sorted_li=[]\n",
    "        mid=0\n",
    "        for k in range(0,i+1):\n",
    "            sorted_li.append(li[k])\n",
    "        insertionSort(sorted_li)\n",
    "        print(sorted_li)\n",
    "        if(len(sorted_li)%2==0):\n",
    "            a=len(sorted_li)//2\n",
    "            b=len(sorted_li)//2 -1\n",
    "            suma=0\n",
    "            sumb=0\n",
    "            for l in range(len(sorted_li)):\n",
    "                x=sorted_li[a]-sorted_li[l]\n",
    "                suma=suma+x\n",
    "            for m in range(len(sorted_li)):\n",
    "                y=sorted_li[b]-sorted_li[m]\n",
    "                sumb=sumb+y\n",
    "            d={}\n",
    "            d[a]=suma\n",
    "            d[b]=sumb\n",
    "            print(d)\n",
    "            c=d.values()\n",
    "            min_c=min(c)\n",
    "            print(c)\n",
    "            for r in range(len(d)):\n",
    "                if(d[r]==min_c):\n",
    "                    print(d[r])\n",
    "                    print(r)\n",
    "\n",
    "        else:\n",
    "            mid=len(sorted_li)//2\n",
    "            print(sorted_li[mid])\n"
   ]
  },
  {
   "cell_type": "code",
   "execution_count": null,
   "id": "3d578b64",
   "metadata": {},
   "outputs": [],
   "source": [
    "import sys\n",
    "import os\n",
    "\n",
    "''' Read input from STDIN. Print your output to STDOUT '''\n",
    "# Use input() to read input from STDIN and use print to write your output to STDOUT\n",
    "# Write code here\n",
    "def insertionSort(li):\n",
    "    \n",
    "    for i in range(1,len(li)):\n",
    "        temp=li[i]\n",
    "        j=i-1\n",
    "        while(j>=0 and li[j] > temp):\n",
    "            li[j+1]=li[j]\n",
    "            j=j-1\n",
    "        li[j+1]=temp\n",
    "\n",
    "q=int(input())\n",
    "li=[]\n",
    "for i in range(q):\n",
    "    n=int(input())\n",
    "    li.append(n)\n",
    "\n",
    "for i in range(0,len(li)):\n",
    "    if(i==0):\n",
    "        print(li[0])\n",
    "    elif (i==1):\n",
    "        print(min(li))\n",
    "    else:\n",
    "        sorted_li=[]\n",
    "        mid=0\n",
    "        for k in range(0,i+1):\n",
    "            sorted_li.append(li[k])\n",
    "        insertionSort(sorted_li)\n",
    "        print(sorted_li)\n",
    "        if(len(sorted_li)%2==0):\n",
    "            mid=(len(sorted_li)//2) -1\n",
    "            print(sorted_li[mid])\n",
    "\n",
    "        else:\n",
    "            mid=len(sorted_li)//2\n",
    "            print(sorted_li[mid])\n"
   ]
  },
  {
   "cell_type": "code",
   "execution_count": 114,
   "id": "f6f715ae",
   "metadata": {},
   "outputs": [
    {
     "ename": "KeyboardInterrupt",
     "evalue": "Interrupted by user",
     "output_type": "error",
     "traceback": [
      "\u001b[0;31m---------------------------------------------------------------------------\u001b[0m",
      "\u001b[0;31mKeyboardInterrupt\u001b[0m                         Traceback (most recent call last)",
      "Input \u001b[0;32mIn [114]\u001b[0m, in \u001b[0;36m<cell line: 8>\u001b[0;34m()\u001b[0m\n\u001b[1;32m      4\u001b[0m \u001b[38;5;124;03m''' Read input from STDIN. Print your output to STDOUT '''\u001b[39;00m\n\u001b[1;32m      5\u001b[0m \u001b[38;5;66;03m# Use input() to read input from STDIN and use print to write your output to STDOUT\u001b[39;00m\n\u001b[1;32m      6\u001b[0m \u001b[38;5;66;03m# Write code here\u001b[39;00m\n\u001b[0;32m----> 8\u001b[0m s\u001b[38;5;241m=\u001b[39m\u001b[38;5;28;43minput\u001b[39;49m\u001b[43m(\u001b[49m\u001b[43m)\u001b[49m\n\u001b[1;32m      9\u001b[0m s\u001b[38;5;241m=\u001b[39ms\u001b[38;5;241m.\u001b[39msplit()\n\u001b[1;32m     10\u001b[0m n\u001b[38;5;241m=\u001b[39m\u001b[38;5;28mint\u001b[39m(s[\u001b[38;5;241m0\u001b[39m])\n",
      "File \u001b[0;32m~/opt/anaconda3/lib/python3.9/site-packages/ipykernel/kernelbase.py:1075\u001b[0m, in \u001b[0;36mKernel.raw_input\u001b[0;34m(self, prompt)\u001b[0m\n\u001b[1;32m   1071\u001b[0m \u001b[38;5;28;01mif\u001b[39;00m \u001b[38;5;129;01mnot\u001b[39;00m \u001b[38;5;28mself\u001b[39m\u001b[38;5;241m.\u001b[39m_allow_stdin:\n\u001b[1;32m   1072\u001b[0m     \u001b[38;5;28;01mraise\u001b[39;00m StdinNotImplementedError(\n\u001b[1;32m   1073\u001b[0m         \u001b[38;5;124m\"\u001b[39m\u001b[38;5;124mraw_input was called, but this frontend does not support input requests.\u001b[39m\u001b[38;5;124m\"\u001b[39m\n\u001b[1;32m   1074\u001b[0m     )\n\u001b[0;32m-> 1075\u001b[0m \u001b[38;5;28;01mreturn\u001b[39;00m \u001b[38;5;28;43mself\u001b[39;49m\u001b[38;5;241;43m.\u001b[39;49m\u001b[43m_input_request\u001b[49m\u001b[43m(\u001b[49m\n\u001b[1;32m   1076\u001b[0m \u001b[43m    \u001b[49m\u001b[38;5;28;43mstr\u001b[39;49m\u001b[43m(\u001b[49m\u001b[43mprompt\u001b[49m\u001b[43m)\u001b[49m\u001b[43m,\u001b[49m\n\u001b[1;32m   1077\u001b[0m \u001b[43m    \u001b[49m\u001b[38;5;28;43mself\u001b[39;49m\u001b[38;5;241;43m.\u001b[39;49m\u001b[43m_parent_ident\u001b[49m\u001b[43m[\u001b[49m\u001b[38;5;124;43m\"\u001b[39;49m\u001b[38;5;124;43mshell\u001b[39;49m\u001b[38;5;124;43m\"\u001b[39;49m\u001b[43m]\u001b[49m\u001b[43m,\u001b[49m\n\u001b[1;32m   1078\u001b[0m \u001b[43m    \u001b[49m\u001b[38;5;28;43mself\u001b[39;49m\u001b[38;5;241;43m.\u001b[39;49m\u001b[43mget_parent\u001b[49m\u001b[43m(\u001b[49m\u001b[38;5;124;43m\"\u001b[39;49m\u001b[38;5;124;43mshell\u001b[39;49m\u001b[38;5;124;43m\"\u001b[39;49m\u001b[43m)\u001b[49m\u001b[43m,\u001b[49m\n\u001b[1;32m   1079\u001b[0m \u001b[43m    \u001b[49m\u001b[43mpassword\u001b[49m\u001b[38;5;241;43m=\u001b[39;49m\u001b[38;5;28;43;01mFalse\u001b[39;49;00m\u001b[43m,\u001b[49m\n\u001b[1;32m   1080\u001b[0m \u001b[43m\u001b[49m\u001b[43m)\u001b[49m\n",
      "File \u001b[0;32m~/opt/anaconda3/lib/python3.9/site-packages/ipykernel/kernelbase.py:1120\u001b[0m, in \u001b[0;36mKernel._input_request\u001b[0;34m(self, prompt, ident, parent, password)\u001b[0m\n\u001b[1;32m   1117\u001b[0m             \u001b[38;5;28;01mbreak\u001b[39;00m\n\u001b[1;32m   1118\u001b[0m \u001b[38;5;28;01mexcept\u001b[39;00m \u001b[38;5;167;01mKeyboardInterrupt\u001b[39;00m:\n\u001b[1;32m   1119\u001b[0m     \u001b[38;5;66;03m# re-raise KeyboardInterrupt, to truncate traceback\u001b[39;00m\n\u001b[0;32m-> 1120\u001b[0m     \u001b[38;5;28;01mraise\u001b[39;00m \u001b[38;5;167;01mKeyboardInterrupt\u001b[39;00m(\u001b[38;5;124m\"\u001b[39m\u001b[38;5;124mInterrupted by user\u001b[39m\u001b[38;5;124m\"\u001b[39m) \u001b[38;5;28;01mfrom\u001b[39;00m \u001b[38;5;28mNone\u001b[39m\n\u001b[1;32m   1121\u001b[0m \u001b[38;5;28;01mexcept\u001b[39;00m \u001b[38;5;167;01mException\u001b[39;00m:\n\u001b[1;32m   1122\u001b[0m     \u001b[38;5;28mself\u001b[39m\u001b[38;5;241m.\u001b[39mlog\u001b[38;5;241m.\u001b[39mwarning(\u001b[38;5;124m\"\u001b[39m\u001b[38;5;124mInvalid Message:\u001b[39m\u001b[38;5;124m\"\u001b[39m, exc_info\u001b[38;5;241m=\u001b[39m\u001b[38;5;28;01mTrue\u001b[39;00m)\n",
      "\u001b[0;31mKeyboardInterrupt\u001b[0m: Interrupted by user"
     ]
    }
   ],
   "source": [
    "import sys\n",
    "import os\n",
    "\n",
    "''' Read input from STDIN. Print your output to STDOUT '''\n",
    "# Use input() to read input from STDIN and use print to write your output to STDOUT\n",
    "# Write code here\n",
    "\n",
    "s=input()\n",
    "s=s.split()\n",
    "n=int(s[0])\n",
    "m=int(s[1])\n",
    "\n",
    "while(m>0):\n",
    "    q=input()\n",
    "    q=q.split()\n",
    "    a=int(q[0])\n",
    "    b=int(q[1])\n",
    "    print(5)\n",
    "\n",
    "    m=m-1\n",
    "\n",
    "\n"
   ]
  },
  {
   "cell_type": "code",
   "execution_count": null,
   "id": "fb81966c",
   "metadata": {},
   "outputs": [],
   "source": [
    "# Python3 program to find nth number\n",
    "# made up of odd digits only\n",
    " \n",
    "# Function to return nth number made\n",
    "# up of odd digits only\n",
    "def findNthOddDigitNumber(n) :\n",
    "     \n",
    "    # Variable to keep track of how many\n",
    "    # such elements have been found\n",
    "    count = 0\n",
    "     \n",
    "    i = 1\n",
    "    while True :\n",
    "        num = i\n",
    "        isMadeOfOdd = True\n",
    "         \n",
    "        # Checking each digit of the number\n",
    "        while num != 0 :\n",
    "             \n",
    "            # If 0, 2, 4, 6 or 8 is found\n",
    "            # then the number is not made\n",
    "            # up of odd digits\n",
    "            if (num % 10 == 0 or num % 10 == 2 or\n",
    "                num % 10 == 4 or num % 10 == 6 or\n",
    "                num % 10 == 8) :\n",
    "                     \n",
    "                    isMadeOfOdd = False\n",
    "                    break\n",
    "         \n",
    "            num //= 10\n",
    "     \n",
    "        # If the number is made up of\n",
    "        # odd digits only\n",
    "        if isMadeOfOdd == True :\n",
    "            count += 1\n",
    "     \n",
    "        # If it is the nth number\n",
    "        if count == n :\n",
    "            return i\n",
    "     \n",
    "        i += 1\n",
    " \n",
    "# Driver code\n",
    "if __name__ == \"__main__\" :\n",
    "     \n",
    "    n = 10\n",
    "\n",
    "    print(findNthOddDigitNumber(n))\n",
    "     \n"
   ]
  },
  {
   "cell_type": "code",
   "execution_count": null,
   "id": "6960660d",
   "metadata": {},
   "outputs": [],
   "source": [
    "import sys\n",
    "import os\n",
    "\n",
    "''' Read input from STDIN. Print your output to STDOUT '''\n",
    "# Use input() to read input from STDIN and use print to write your output to STDOUT\n",
    "# Write code here\n",
    "\n",
    "def NthOdd(n) :\n",
    "\n",
    "    count = 0\n",
    "     \n",
    "    i = 1\n",
    "    while True :\n",
    "        num = i\n",
    "        isMadeOfOdd = True\n",
    "         \n",
    "        # Checking each digit of the number\n",
    "        while num != 0 :\n",
    "             \n",
    "\n",
    "            if (num % 10 == 0 or num % 10 == 2 or\n",
    "                num % 10 == 4 or num % 10 == 6 or\n",
    "                num % 10 == 8) :\n",
    "                     \n",
    "                    isMadeOfOdd = False\n",
    "                    break\n",
    "         \n",
    "            num //= 10\n",
    "     \n",
    "\n",
    "        if isMadeOfOdd == True :\n",
    "            count += 1\n",
    "    \n",
    "        if count == n :\n",
    "            return i\n",
    "     \n",
    "        i += 1\n",
    "\n",
    "\n",
    "t=int(input())\n",
    "li=[]\n",
    "while(t>0):\n",
    "\n",
    "    n=int(input())\n",
    "    li.append(n)\n",
    "\n",
    "    t=t-1\n",
    "\n",
    "for i in range(len(li)):\n",
    "    print(NthOdd(li[i]))"
   ]
  },
  {
   "cell_type": "code",
   "execution_count": null,
   "id": "42abd2b7",
   "metadata": {},
   "outputs": [],
   "source": [
    "q=int(input())\n",
    "nums=[]\n",
    "sorted_list=[]\n",
    "\n",
    "for i in range(0,q):\n",
    "    val=int(input())\n",
    "    nums.append(val)\n",
    "    sorted_list.append(val)\n",
    "    \n",
    "sorted_list.sort()\n",
    "\n",
    "ans=[]\n",
    "l=q\n",
    "for i in range(0,q):\n",
    "    x=sorted_list[int(1/2)]\n",
    "    ans.append(x)\n",
    "    sorted_list=sorted_list[0:int(1/2)-1] + sorted_list[int(1/2)+1]\n",
    "    l=l-1\n",
    "    \n",
    "ans.reverse()\n",
    "for i in range(0,q):\n",
    "    print(ans[i])\n",
    "\n"
   ]
  },
  {
   "cell_type": "code",
   "execution_count": null,
   "id": "44cc2e9c",
   "metadata": {},
   "outputs": [],
   "source": [
    "\n",
    "import sys\n",
    "import os\n",
    "\n",
    "''' Read input from STDIN. Print your output to STDOUT '''\n",
    "# Use input() to read input from STDIN and use print to write your output to STDOUT\n",
    "# Write code here\n",
    "\n",
    "def NthOdd(n) :\n",
    "\n",
    "    count = 0\n",
    "     \n",
    "    i = 1\n",
    "    while True :\n",
    "        num = i\n",
    "        Odd = True\n",
    "         \n",
    "\n",
    "        while num != 0 :\n",
    "             \n",
    "\n",
    "            if (num % 10 == 0 or num % 10 == 2 or\n",
    "                num % 10 == 4 or num % 10 == 6 or\n",
    "                num % 10 == 8) :\n",
    "                     \n",
    "                    Odd = False\n",
    "                    break\n",
    "         \n",
    "            num //= 10\n",
    "     \n",
    "\n",
    "        if Odd == True :\n",
    "            count += 1\n",
    "    \n",
    "        if count == n :\n",
    "            return i\n",
    "     \n",
    "        i += 1\n",
    "        \n",
    "t=int(input())\n",
    "li=[]\n",
    "while(t>0):\n",
    "\n",
    "    n=int(input())\n",
    "    li.append(n)\n",
    "\n",
    "    t=t-1\n",
    "\n",
    "for i in range(len(li)):\n",
    "    print(NthOdd(li[i]))\n",
    "\n"
   ]
  },
  {
   "cell_type": "code",
   "execution_count": null,
   "id": "545ead99",
   "metadata": {},
   "outputs": [],
   "source": []
  },
  {
   "cell_type": "code",
   "execution_count": null,
   "id": "25ce1dcb",
   "metadata": {},
   "outputs": [],
   "source": []
  },
  {
   "cell_type": "code",
   "execution_count": null,
   "id": "67ab3f07",
   "metadata": {},
   "outputs": [],
   "source": []
  },
  {
   "cell_type": "code",
   "execution_count": null,
   "id": "01843122",
   "metadata": {},
   "outputs": [],
   "source": []
  },
  {
   "cell_type": "code",
   "execution_count": null,
   "id": "747a5e57",
   "metadata": {},
   "outputs": [],
   "source": []
  }
 ],
 "metadata": {
  "kernelspec": {
   "display_name": "Python 3 (ipykernel)",
   "language": "python",
   "name": "python3"
  },
  "language_info": {
   "codemirror_mode": {
    "name": "ipython",
    "version": 3
   },
   "file_extension": ".py",
   "mimetype": "text/x-python",
   "name": "python",
   "nbconvert_exporter": "python",
   "pygments_lexer": "ipython3",
   "version": "3.9.12"
  }
 },
 "nbformat": 4,
 "nbformat_minor": 5
}
