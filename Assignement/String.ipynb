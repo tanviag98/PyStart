{
 "cells": [
  {
   "cell_type": "code",
   "execution_count": 52,
   "id": "6750d162",
   "metadata": {},
   "outputs": [
    {
     "name": "stdout",
     "output_type": "stream",
     "text": [
      "2 2\n",
      "1 2 3\n",
      "4 5 5\n",
      "[[0], [4, 5], [4, 5]]\n"
     ]
    }
   ],
   "source": [
    "from os import *\n",
    "from sys import *\n",
    "from collections import *\n",
    "from math import *\n",
    "\n",
    "a=input()\n",
    "b=a.split()\n",
    "n=int(b[0])\n",
    "m=int(b[1])\n",
    "\n",
    "arr=[]\n",
    "\n",
    "for i in range(n):\n",
    "    x=input()\n",
    "    y=x.split()\n",
    "    \n",
    "for i in range(n):          # A for loop for row entries\n",
    "    a =[]\n",
    "    for j in range(m):      # A for loop for column entries\n",
    "         a.append(int(y[j]))\n",
    "    arr.append(a)\n",
    "    \n",
    "print(arr)\n"
   ]
  },
  {
   "cell_type": "markdown",
   "id": "5e737e29",
   "metadata": {},
   "source": [
    "for i in range(n):\n",
    "    count=n-i\n",
    "    while(count>0):\n",
    "        for j in range(m):\n",
    "            print(arr[i][j])\n",
    "            count=count-1\n"
   ]
  },
  {
   "cell_type": "code",
   "execution_count": 33,
   "id": "55518717",
   "metadata": {},
   "outputs": [
    {
     "name": "stdout",
     "output_type": "stream",
     "text": [
      "bfwefewff lde2d123d owefwefqwefwefweqf ued2d23d jhjhjh jkjkjkjk ioioioioi jkjkjkjkjkjkjkjkjkjkkjkjkjkkj klklklkllk klklklklklklklklklklklklklklkl ytuyuyiuyiuyy\n",
      "['bfwefewff', 'lde2d123d', 'owefwefqwefwefweqf', 'ued2d23d', 'jhjhjh', 'jkjkjkjk', 'ioioioioi', 'jkjkjkjkjkjkjkjkjkjkkjkjkjkkj', 'klklklkllk', 'klklklklklklklklklklklklklklkl', 'ytuyuyiuyiuyy']\n",
      "jhjhjh\n"
     ]
    }
   ],
   "source": [
    "import sys\n",
    "\n",
    "s=input()\n",
    "s=s.split()\n",
    "print(s)\n",
    "count=0\n",
    "currcount=0\n",
    "mini=100000\n",
    "for i in range(len(s)):\n",
    "    currcount=len(s[i])\n",
    "    if(currcount<mini):\n",
    "        mini=currcount\n",
    "        count=i\n",
    "print(s[count])\n",
    "    \n",
    "\n"
   ]
  },
  {
   "cell_type": "code",
   "execution_count": 38,
   "id": "30b9af60",
   "metadata": {},
   "outputs": [
    {
     "name": "stdout",
     "output_type": "stream",
     "text": [
      "222\n",
      "448 241 363 161 447 333 369 28 169 474 161 485 433 238 188 423 111 59 144 354 346 80 463 246 356 72 159 377 430 229 395 444 111 72 486 491 397 110 30 458 48 471 39 105 366 330 371 462 463 137 352 83 200 439 284 411 71 439 48 385 355 337 234 38 351 51 128 381 491 453 9 116 6 451 64 407 204 468 189 379 222 208 255 318 387 462 273 167 35 239 81 378 329 485 493 431 220 362 384 469 296 202 453 417 284 93 334 220 470 367 374 430 226 263 281 292 239 1 351 222 378 146 299 162 442 299 137 171 258 418 247 393 345 389 116 41 487 411 341 490 177 209 224 237 465 208 291 67 258 385 244 107 91 306 239 191 309 116 468 438 482 138 323 361 208 213 406 452 230 431 344 251 49 33 297 218 386 448 100 417 3 209 337 6 480 330 129 352 102 178 134 272 3 345 178 338 184 146 58 42 409 4 367 221 374 241 243 129 323 105 137 328 94 253 161 209 257 414 196 376 218 457 \n",
      "493 490 482 480 457\n"
     ]
    }
   ],
   "source": [
    "n=int(input())\n",
    "\n",
    "arr=input()\n",
    "arr=arr.split()\n",
    "\n",
    "for i in range(n-1):\n",
    "    flag=True\n",
    "    for j in range(i+1,n):\n",
    "        if(int(arr[i])<int(arr[j])):\n",
    "            flag=False\n",
    "            break\n",
    "    if(flag):\n",
    "        print(arr[i],end=\" \")\n",
    "\n",
    "print(int(arr[n-1]))\n",
    "\n",
    "\n"
   ]
  },
  {
   "cell_type": "code",
   "execution_count": 39,
   "id": "a477802b",
   "metadata": {},
   "outputs": [
    {
     "name": "stdout",
     "output_type": "stream",
     "text": [
      "3 3\n"
     ]
    },
    {
     "ename": "ValueError",
     "evalue": "invalid literal for int() with base 10: '3 3'",
     "output_type": "error",
     "traceback": [
      "\u001b[0;31m---------------------------------------------------------------------------\u001b[0m",
      "\u001b[0;31mValueError\u001b[0m                                Traceback (most recent call last)",
      "Input \u001b[0;32mIn [39]\u001b[0m, in \u001b[0;36m<cell line: 7>\u001b[0;34m()\u001b[0m\n\u001b[1;32m      3\u001b[0m \u001b[38;5;28;01mfrom\u001b[39;00m \u001b[38;5;21;01mcollections\u001b[39;00m \u001b[38;5;28;01mimport\u001b[39;00m \u001b[38;5;241m*\u001b[39m\n\u001b[1;32m      4\u001b[0m \u001b[38;5;28;01mfrom\u001b[39;00m \u001b[38;5;21;01mmath\u001b[39;00m \u001b[38;5;28;01mimport\u001b[39;00m \u001b[38;5;241m*\u001b[39m\n\u001b[0;32m----> 7\u001b[0m n\u001b[38;5;241m=\u001b[39m\u001b[38;5;28;43mint\u001b[39;49m\u001b[43m(\u001b[49m\u001b[38;5;28;43minput\u001b[39;49m\u001b[43m(\u001b[49m\u001b[43m)\u001b[49m\u001b[43m)\u001b[49m\n\u001b[1;32m      8\u001b[0m m\u001b[38;5;241m=\u001b[39m\u001b[38;5;28mint\u001b[39m(\u001b[38;5;28minput\u001b[39m())\n\u001b[1;32m      9\u001b[0m arr\u001b[38;5;241m=\u001b[39m[[\u001b[38;5;241m0\u001b[39m]]\n",
      "\u001b[0;31mValueError\u001b[0m: invalid literal for int() with base 10: '3 3'"
     ]
    }
   ],
   "source": [
    "from os import *\n",
    "from sys import *\n",
    "from collections import *\n",
    "from math import *\n",
    "\n",
    "\n",
    "n=int(input())\n",
    "m=int(input())\n",
    "arr=[[0]]\n",
    "\n",
    "for i in range(n):\n",
    "    for j in range(m):\n",
    "        arr[i][j]=int(input())\n",
    "\n",
    "for i in range(n):\n",
    "    count=n-i\n",
    "    while(count>0):\n",
    "        for j in range(m):\n",
    "            print(arr[i][j])\n",
    "            count=count-1"
   ]
  },
  {
   "cell_type": "code",
   "execution_count": null,
   "id": "da18b460",
   "metadata": {},
   "outputs": [],
   "source": []
  }
 ],
 "metadata": {
  "kernelspec": {
   "display_name": "Python 3 (ipykernel)",
   "language": "python",
   "name": "python3"
  },
  "language_info": {
   "codemirror_mode": {
    "name": "ipython",
    "version": 3
   },
   "file_extension": ".py",
   "mimetype": "text/x-python",
   "name": "python",
   "nbconvert_exporter": "python",
   "pygments_lexer": "ipython3",
   "version": "3.9.12"
  }
 },
 "nbformat": 4,
 "nbformat_minor": 5
}
