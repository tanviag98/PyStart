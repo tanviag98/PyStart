{
 "cells": [
  {
   "cell_type": "code",
   "execution_count": 2,
   "id": "abe63c6b",
   "metadata": {},
   "outputs": [],
   "source": [
    "def merge(a1,a2,a):\n",
    "    i=0\n",
    "    j=0\n",
    "    k=0\n",
    "    while i<len(a1) and j<len(a2):\n",
    "        if(a1[i]<a2[j]):\n",
    "            a[k]=a1[i]\n",
    "            k=k+1\n",
    "            i=i+1\n",
    "        else:\n",
    "            a[k]=a2[j]\n",
    "            k=k+1\n",
    "            j=j+1\n",
    "    while i<len(a1):\n",
    "        a[k]=a1[i]\n",
    "        k=k+1\n",
    "        i=i+1\n",
    "    while j<len(a2):\n",
    "        a2[k]=a2[j]\n",
    "        k=k+1\n",
    "        j=j+1\n",
    "        \n",
    "        \n"
   ]
  },
  {
   "cell_type": "code",
   "execution_count": 3,
   "id": "2ccb7d1f",
   "metadata": {},
   "outputs": [],
   "source": [
    "def merge_sort(a):\n",
    "    if len(a)==0 or len(a)==1:\n",
    "        return\n",
    "    mid=len(a)//2\n",
    "    a1=a[0:mid]\n",
    "    a2=a[mid:]\n",
    "    \n",
    "    merge_sort(a1)\n",
    "    merge_sort(a2)\n",
    "    merge(a1,a2,a)\n"
   ]
  },
  {
   "cell_type": "code",
   "execution_count": 4,
   "id": "b8e5a0a7",
   "metadata": {},
   "outputs": [],
   "source": [
    "\n",
    "def selection_sort(a):\n",
    "    for i in range(len(a)):\n",
    "        min_idx=i\n",
    "        for j in range(i+1,len(a)):\n",
    "            if a[min_idx]>a[j]:\n",
    "                min_idx=j\n",
    "                a[i],a[min_idx]=a[min_idx],a[i]\n",
    "\n"
   ]
  },
  {
   "cell_type": "code",
   "execution_count": 5,
   "id": "5ae97658",
   "metadata": {},
   "outputs": [
    {
     "name": "stdout",
     "output_type": "stream",
     "text": [
      "100000 0.35352087020874023\n",
      "100000 716.9774789810181\n"
     ]
    }
   ],
   "source": [
    "def create_rev_array(n):\n",
    "    a=[]\n",
    "    for i in range(n,0,-1):\n",
    "        a.append(i)\n",
    "    return a\n",
    "\n",
    "import time\n",
    "\n",
    "n=100000\n",
    "\n",
    "a=create_rev_array(n)\n",
    "start=time.time()\n",
    "merge_sort(a)\n",
    "end=time.time()\n",
    "print(n,end-start)\n",
    "\n",
    "a=create_rev_array(n)\n",
    "start=time.time()\n",
    "selection_sort(a)\n",
    "end=time.time()\n",
    "print(n,end-start)"
   ]
  },
  {
   "cell_type": "code",
   "execution_count": 9,
   "id": "5fba57d3",
   "metadata": {},
   "outputs": [],
   "source": [
    "from sys import stdin\n",
    "\n",
    "\n",
    "def intersection(arr1, arr2, n, m) :\n",
    "    a,b=0,0\n",
    "    arr1.sort()\n",
    "    arr2.sort()\n",
    "    print(arr1)\n",
    "    print(arr2)\n",
    "    while(a<=n and b<=m):\n",
    "        if(arr1[a]==arr2[b]):\n",
    "            print(arr1[a])\n",
    "            a=a+1\n",
    "            b=b+1\n",
    "        else:\n",
    "            a=a+1\n",
    "\n",
    "arr1=[2,6,1,2]\n",
    "arr2=[1,2,3,4,2]\n",
    "\n",
    "n=4\n",
    "m=5\n"
   ]
  },
  {
   "cell_type": "code",
   "execution_count": 11,
   "id": "684a4176",
   "metadata": {},
   "outputs": [
    {
     "name": "stdout",
     "output_type": "stream",
     "text": [
      "10 "
     ]
    }
   ],
   "source": [
    "from sys import stdin\n",
    "\n",
    "\n",
    "def intersection(arr1, arr2, n, m) :\n",
    "    a,b=0,0\n",
    "    arr1.sort()\n",
    "    arr2.sort()\n",
    "    while(a<n and b<m):\n",
    "        if(arr1[a]==arr2[b]):\n",
    "            print(arr1[a],end=\" \")\n",
    "            a=a+1\n",
    "            b=b+1\n",
    "        else:\n",
    "            while(arr2[b] < arr1[a] and b<m):\n",
    "                b= b+1\n",
    "            a=a+1\n",
    "\n",
    "arr1=[10,10]\n",
    "arr2=[10]\n",
    "\n",
    "n=2\n",
    "m=1\n",
    "intersection(arr1, arr2, n, m)"
   ]
  },
  {
   "cell_type": "code",
   "execution_count": null,
   "id": "cb7fed18",
   "metadata": {},
   "outputs": [],
   "source": []
  }
 ],
 "metadata": {
  "kernelspec": {
   "display_name": "Python 3 (ipykernel)",
   "language": "python",
   "name": "python3"
  },
  "language_info": {
   "codemirror_mode": {
    "name": "ipython",
    "version": 3
   },
   "file_extension": ".py",
   "mimetype": "text/x-python",
   "name": "python",
   "nbconvert_exporter": "python",
   "pygments_lexer": "ipython3",
   "version": "3.9.12"
  }
 },
 "nbformat": 4,
 "nbformat_minor": 5
}
